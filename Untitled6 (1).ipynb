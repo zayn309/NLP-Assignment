{
  "nbformat": 4,
  "nbformat_minor": 0,
  "metadata": {
    "colab": {
      "provenance": []
    },
    "kernelspec": {
      "name": "python3",
      "display_name": "Python 3"
    },
    "language_info": {
      "name": "python"
    }
  },
  "cells": [
    {
      "cell_type": "code",
      "execution_count": null,
      "metadata": {
        "colab": {
          "base_uri": "https://localhost:8080/"
        },
        "id": "Gj7VXGpDCXNR",
        "outputId": "2ca0ca9c-1440-4cf4-b1d3-d7788518a9db"
      },
      "outputs": [
        {
          "output_type": "stream",
          "name": "stdout",
          "text": [
            "Extracted text:\n",
            "Wikipedia, the free encyclopedia Jump to content Main menu Main menu move to sidebar hide Navigation Main pageContentsCurrent eventsRandom articleAbout WikipediaContact usDonate Contribute HelpLearn to editCommunity portalRecent changesUpload file Search Search Create account Log in Personal tools Create account Log in Pages for logged out editors learn more ContributionsTalk Main Page Main PageTalk English ReadView sourceView history Tools Tools move to sidebar hide Actions ReadView sourceView history General What links hereRelated changesUpload fileSpecial pagesPermanent linkPage informationCite this pageGet shortened URLDownload QR codeWikidata item Print/export Download as PDFPrintable version In other projects Wikimedia CommonsWikimedia FoundationMediaWikiMeta-WikiWikimedia OutreachMultilingual WikisourceWikispeciesWikibooksWikidataWikifunctionsWikimaniaWikinewsWikiquoteWikisourceWikiversityWikivoyageWiktionary From Wikipedia, the free encyclopedia Welcome to Wikipedia, the free encyclopedia that anyone can edit. 6,801,965 articles in English From today's featured article Eye is a collection by British fashion designer Alexander McQueen for his fashion house, inspired by the culture of the Middle East, particularly Islamic clothing, as well as the oppression of women in Islamic culture and their resistance. The collection crosses traditional garments with elements drawn from Western fashion. Jeweller Shaun Leane provided the collection's best-known design: a yashmak made from chainmail. The runway show for Eye was staged at Pier 94 in New York City on 16 September 1999, while Hurricane Floyd was threatening the city; more than 1,000 guests attended. The show was presented on a runway flooded with several inches of water, dyed black to resemble oil. A bed of nails rose up from the water for the finale, which featured acrobats dressed in robes descending from the ceiling, suspended from wires. When McQueen walked out for his final bow, he dropped his trousers to display boxer shorts styled to look like the American flag. Critical response to Eye was mixed. (Full article...) Recently featured: Argosy (magazine) Pinniped William Y. Slack Archive By email More featured articles About Did you know ... Halley's Comet ... that Halley's Comet (pictured) is a living creature in several works of fiction? ... that according to Indian chef Imtiaz Qureshi, who is credited with reviving the cooking tradition of dum pukht, all biryanis are pulaos? ... that Oakwood Cemetery contains the graves of Confederate soldiers and officers, English, Canadian, and French World War II pilots, and Hank Williams? ... that May O'Flaherty's purchase in 1949 of Parsons Bookshop, which would become a hub of activity in Dublin's Baggotonia, was inadvertent? ... that Piri formed a band with Porij's guitarist after matching with him on Tinder? ... that the Love Island series 8 contestant Tasha Ghouri went viral in early 2024 after uploading a video to TikTok using her \"deaf accent\"? ... that one Baltimore Orioles player compared the 2024 Major League Baseball jerseys to knockoffs from TJ Maxx? ... that John Blackinger quit his job as the general manager of a professional football team to work in the dairy business? ... that during their two-minute performance at the Oulu City Theatre, the group Jumalan teatteri caused a huge scandal by throwing excrement, eggs and yoghurt at the audience? Archive Start a new article Nominate an article In the news Crocus City Hall in 2020 A mass shoot­ing and ex­plo­sions kill at least 133 people at the Crocus City Hall (pictured) in Krasnogorsk, Russia. Vladimir Putin is announced as the winner of the Russian presidential election, securing a fifth term. In Portugal, the Democratic Alliance wins the most seats in a snap legislative election. At the Academy Awards, Oppenheimer wins seven awards, including Best Picture. Ongoing: Haitian crisis Israel–Hamas war Myanmar civil war Red Sea crisis Russian invasion of Ukraine timeline Recent deaths: Cola Boyy Steve Tensi Laxminarayan Ramdas BrolyLegs Konstantin Koltsov Thomas P. Stafford Nominate an article On this day March 24: Purim (Judaism 2024), World Tuberculosis Day Flag of Prince Edward Island 1387 – Hundred Years' War: An English fleet led by Richard Fitzalan attacked 250–360 French, Flemish and Castilian vessels in the Battle of Margate. 1934 – The Tydings–McDuffie Act came into effect, which provided for self-government of the Philippines and for Filipino independence from the United States after a period of ten years. 1939 – Members of the German National Movement in Liechtenstein attempted to overthrow the government and provoke Liechtenstein's annexation into Nazi Germany. 1964 – Royal assent was given to Prince Edward Island's Provincial Flag Act, which outlined the design of its provincial flag (pictured). 2006 – Hannah Montana, starring Miley Cyrus as an actress whose alter ego is the titular character, premiered. Wulfred (d. 832)Theodora Kroeber (b. 1897)John Millington Synge (d. 1909)Chris Bosh (b. 1984) More anniversaries: March 23 March 24 March 25 Archive By email List of days of the year Today's featured picture PAGEOS (Passive Geodetic Earth Orbiting Satellite) was a balloon satellite which was launched by NASA in 1966. It was placed into a polar orbit (inclination 85–86°) with a height of approximately 4000 km, which became gradually lower during its nine years of operation. The satellite partly disintegrated in July 1975, which was followed by a second break-up that occurred in January 1976 resulting in the release of a large number of fragments. Most of these re-entered the Earth's atmosphere during the following decade. This photograph shows a test inflation of a PAGEOS satellite in a blimp hangar at Weeksville, North Carolina, in 1965. Photograph credit: NASA Recently featured: Frere Hall Laocoön and His Sons Arabis hirsuta Archive More featured pictures Other areas of Wikipedia Community portal – The central hub for editors, with resources, links, tasks, and announcements. Village pump – Forum for discussions about Wikipedia itself, including policies and technical issues. Site news – Sources of news about Wikipedia and the broader Wikimedia movement. Teahouse – Ask basic questions about using or editing Wikipedia. Help desk – Ask questions about using or editing Wikipedia. Reference desk – Ask research questions about encyclopedic topics. Content portals – A unique way to navigate the encyclopedia. Wikipedia's sister projects Wikipedia is written by volunteer editors and hosted by the Wikimedia Foundation, a non-profit organization that also hosts a range of other volunteer projects: CommonsFree media repository MediaWikiWiki software development Meta-WikiWikimedia project coordination WikibooksFree textbooks and manuals WikidataFree knowledge base WikinewsFree-content news WikiquoteCollection of quotations WikisourceFree-content library WikispeciesDirectory of species WikiversityFree learning tools WikivoyageFree travel guide WiktionaryDictionary and thesaurus Wikipedia languages This Wikipedia is written in English. Many other Wikipedias are available; some of the largest are listed below. 1,000,000+ articles العربية مصرى Deutsch Español Français Italiano Nederlands 日本語 Polski Português Русский Svenska Українська Tiếng Việt 中文 250,000+ articles Bahasa Indonesia Bahasa Melayu Bân-lâm-gú Български Català Čeština Dansk Esperanto Euskara فارسی‎ עברית Հայերեն 한국어 Magyar Norsk bokmål Română Srpski Srpskohrvatski Suomi Türkçe 50,000+ articles Asturianu বাংলা Bosanski کوردی Eesti Ελληνικά Simple English Frysk Gaeilge Galego Hrvatski ქართული Kurdî Latviešu Lietuvių മലയാളം Македонски မြန်မာဘာသာ Norsk nynorsk ਪੰਜਾਬੀ Shqip Slovenčina Slovenščina ไทย తెలుగు اردو Oʻzbekcha / ўзбекча Retrieved from \"https://en.wikipedia.org/w/index.php?title=Main_Page&oldid=1212457119\" 48 languages العربيةবাংলাБългарскиBosanskiCatalàČeštinaDanskDeutschEestiΕλληνικάEspañolEsperantoEuskaraفارسیFrançaisGalego한국어HrvatskiBahasa IndonesiaItalianoעבריתქართულიLatviešuLietuviųMagyarМакедонскиBahasa MelayuNederlands日本語Norsk bokmålNorsk nynorskPolskiPortuguêsRomânăРусскийSimple EnglishSlovenčinaSlovenščinaکوردیСрпски / srpskiSrpskohrvatski / српскохрватскиSuomiSvenskaไทยTürkçeУкраїнськаTiếng Việt中文 This page was last edited on 7 March 2024, at 23:59 (UTC). Text is available under the Creative Commons Attribution-ShareAlike License 4.0; additional terms may apply. By using this site, you agree to the Terms of Use and Privacy Policy. Wikipedia® is a registered trademark of the Wikimedia Foundation, Inc., a non-profit organization. Privacy policy About Wikipedia Disclaimers Contact Wikipedia Code of Conduct Developers Statistics Cookie statement Mobile view Toggle limited content width\n"
          ]
        }
      ],
      "source": [
        "import requests\n",
        "from bs4 import BeautifulSoup\n",
        "\n",
        "def extract_text_from_url(url):\n",
        "    response = requests.get(url)\n",
        "    if response.status_code == 200:\n",
        "        soup = BeautifulSoup(response.content, 'html.parser')\n",
        "\n",
        "        text = soup.get_text()\n",
        "\n",
        "        cleaned_text = ' '.join(text.split())\n",
        "\n",
        "        return cleaned_text\n",
        "    else:\n",
        "        print(\"Failed to fetch URL:\", response.status_code)\n",
        "        return None\n",
        "\n",
        "url = \"https://en.wikipedia.org/wiki/Main_Page\"\n",
        "text = extract_text_from_url(url)\n",
        "if text:\n",
        "    print(\"Extracted text:\")\n",
        "    print(text)\n"
      ]
    },
    {
      "cell_type": "code",
      "source": [
        "import urllib.request\n",
        "import re\n",
        "\n",
        "def extract_text_from_url(url):\n",
        "    with urllib.request.urlopen(url) as response:\n",
        "        html_content = response.read().decode('utf-8')\n",
        "\n",
        "        html_content = re.sub(r'<script[^>]*>[\\s\\S]*?</script>', '', html_content)\n",
        "\n",
        "        html_content = re.sub(r'<style[^>]*>[\\s\\S]*?</style>', '', html_content)\n",
        "\n",
        "        text_only = re.sub(r'<[^>]+>', '', html_content)\n",
        "\n",
        "        cleaned_text = ' '.join(text_only.split())\n",
        "\n",
        "        return cleaned_text\n",
        "\n",
        "url = \"https://en.wikipedia.org/wiki/Main_Page\"\n",
        "text = extract_text_from_url(url)\n",
        "print(\"Extracted text:\")\n",
        "print(text)\n"
      ],
      "metadata": {
        "colab": {
          "base_uri": "https://localhost:8080/"
        },
        "id": "bnOkQJ8WCcIj",
        "outputId": "94754289-5ad0-4cb4-8d3f-e7ff310d89f9"
      },
      "execution_count": null,
      "outputs": [
        {
          "output_type": "stream",
          "name": "stdout",
          "text": [
            "Extracted text:\n",
            "Wikipedia, the free encyclopedia Jump to content Main menu Main menu move to sidebar hide Navigation Main pageContentsCurrent eventsRandom articleAbout WikipediaContact usDonate Contribute HelpLearn to editCommunity portalRecent changesUpload file Search Search Create account Log in Personal tools Create account Log in Pages for logged out editors learn more ContributionsTalk Main Page Main PageTalk English ReadView sourceView history Tools Tools move to sidebar hide Actions ReadView sourceView history General What links hereRelated changesUpload fileSpecial pagesPermanent linkPage informationCite this pageGet shortened URLDownload QR codeWikidata item Print/export Download as PDFPrintable version In other projects Wikimedia CommonsWikimedia FoundationMediaWikiMeta-WikiWikimedia OutreachMultilingual WikisourceWikispeciesWikibooksWikidataWikifunctionsWikimaniaWikinewsWikiquoteWikisourceWikiversityWikivoyageWiktionary From Wikipedia, the free encyclopedia Welcome to Wikipedia, the free encyclopedia that anyone can edit. 6,801,965 articles in English From today's featured article Eye is a collection by British fashion designer Alexander McQueen for his fashion house, inspired by the culture of the Middle East, particularly Islamic clothing, as well as the oppression of women in Islamic culture and their resistance. The collection crosses traditional garments with elements drawn from Western fashion. Jeweller Shaun Leane provided the collection's best-known design: a yashmak made from chainmail. The runway show for Eye was staged at Pier&#160;94 in New York City on 16 September 1999, while Hurricane Floyd was threatening the city; more than 1,000 guests attended. The show was presented on a runway flooded with several inches of water, dyed black to resemble oil. A bed of nails rose up from the water for the finale, which featured acrobats dressed in robes descending from the ceiling, suspended from wires. When McQueen walked out for his final bow, he dropped his trousers to display boxer shorts styled to look like the American flag. Critical response to Eye was mixed. (Full&#160;article...) Recently featured: Argosy (magazine) Pinniped William Y. Slack Archive By email More featured articles About Did you know&#160;... Halley's Comet ... that Halley's Comet (pictured) is a living creature in several works of fiction? ... that according to Indian chef Imtiaz Qureshi, who is credited with reviving the cooking tradition of dum pukht, all biryanis are pulaos&#63; ... that Oakwood Cemetery contains the graves of Confederate soldiers and officers, English, Canadian, and French World War&#160;II pilots, and Hank Williams? ... that May O'Flaherty&#39;s purchase in 1949 of Parsons Bookshop, which would become a hub of activity in Dublin's Baggotonia, was inadvertent? ... that Piri formed a band with Porij&#39;s guitarist after matching with him on Tinder? ... that the Love Island series&#160;8 contestant Tasha Ghouri went viral in early 2024 after uploading a video to TikTok using her \"deaf accent\"? ... that one Baltimore Orioles player compared the 2024 Major League Baseball jerseys to knockoffs from TJ Maxx? ... that John Blackinger quit his job as the general manager of a professional football team to work in the dairy business? ... that during their two-minute performance at the Oulu City Theatre, the group Jumalan teatteri caused a huge scandal by throwing excrement, eggs and yoghurt at the audience? Archive Start a new article Nominate an article In the news Crocus City Hall in 2020 A mass shoot&#173;ing and ex&#173;plo&#173;sions kill at least 133 people at the Crocus City Hall (pictured) in Krasnogorsk, Russia. Vladimir Putin is announced as the winner of the Russian presidential election, securing a fifth term. In Portugal, the Democratic Alliance wins the most seats in a snap legislative election. At the Academy Awards, Oppenheimer wins seven awards, including Best Picture. Ongoing: Haitian crisis Israel–Hamas war Myanmar civil war Red Sea crisis Russian invasion of Ukraine timeline Recent deaths&#58; Cola Boyy Steve Tensi Laxminarayan Ramdas BrolyLegs Konstantin Koltsov Thomas P. Stafford Nominate an article On this day March 24: Purim (Judaism 2024), World Tuberculosis Day Flag of Prince Edward Island 1387 – Hundred Years' War: An English fleet led by Richard Fitzalan attacked 250–360 French, Flemish and Castilian vessels in the Battle of Margate. 1934 – The Tydings–McDuffie Act came into effect, which provided for self-government of the Philippines and for Filipino independence from the United States after a period of ten years. 1939 – Members of the German National Movement in Liechtenstein attempted to overthrow the government and provoke Liechtenstein's annexation into Nazi Germany. 1964 – Royal assent was given to Prince Edward Island's Provincial Flag Act, which outlined the design of its provincial flag (pictured). 2006 – Hannah Montana, starring Miley Cyrus as an actress whose alter ego is the titular character, premiered. Wulfred (d.&#160;832)Theodora Kroeber (b.&#160;1897)John Millington Synge (d.&#160;1909)Chris Bosh (b.&#160;1984) More anniversaries: March 23 March 24 March 25 Archive By email List of days of the year Today's featured picture PAGEOS (Passive Geodetic Earth Orbiting Satellite) was a balloon satellite which was launched by NASA in 1966. It was placed into a polar orbit (inclination 85–86°) with a height of approximately 4000&#160;km, which became gradually lower during its nine years of operation. The satellite partly disintegrated in July 1975, which was followed by a second break-up that occurred in January 1976 resulting in the release of a large number of fragments. Most of these re-entered the Earth's atmosphere during the following decade. This photograph shows a test inflation of a PAGEOS satellite in a blimp hangar at Weeksville, North Carolina, in 1965. Photograph credit: NASA Recently featured: Frere Hall Laocoön and His Sons Arabis hirsuta Archive More featured pictures Other areas of Wikipedia Community portal – The central hub for editors, with resources, links, tasks, and announcements. Village pump – Forum for discussions about Wikipedia itself, including policies and technical issues. Site news – Sources of news about Wikipedia and the broader Wikimedia movement. Teahouse – Ask basic questions about using or editing Wikipedia. Help desk – Ask questions about using or editing Wikipedia. Reference desk – Ask research questions about encyclopedic topics. Content portals – A unique way to navigate the encyclopedia. Wikipedia's sister projects Wikipedia is written by volunteer editors and hosted by the Wikimedia Foundation, a non-profit organization that also hosts a range of other volunteer projects: CommonsFree media repository MediaWikiWiki software development Meta-WikiWikimedia project coordination WikibooksFree textbooks and manuals WikidataFree knowledge base WikinewsFree-content news WikiquoteCollection of quotations WikisourceFree-content library WikispeciesDirectory of species WikiversityFree learning tools WikivoyageFree travel guide WiktionaryDictionary and thesaurus Wikipedia languages This Wikipedia is written in English. Many other Wikipedias are available; some of the largest are listed below. 1,000,000+ articles العربية مصرى Deutsch Español Français Italiano Nederlands 日本語 Polski Português Русский Svenska Українська Tiếng Việt 中文 250,000+ articles Bahasa Indonesia Bahasa Melayu Bân-lâm-gú Български Català Čeština Dansk Esperanto Euskara فارسی&#8206; עברית Հայերեն 한국어 Magyar Norsk bokmål Română Srpski Srpskohrvatski Suomi Türkçe 50,000+ articles Asturianu বাংলা Bosanski کوردی Eesti Ελληνικά Simple English Frysk Gaeilge Galego Hrvatski ქართული Kurdî Latviešu Lietuvių മലയാളം Македонски မြန်မာဘာသာ Norsk nynorsk ਪੰਜਾਬੀ Shqip Slovenčina Slovenščina ไทย తెలుగు اردو Oʻzbekcha / ўзбекча --> Retrieved from \"https://en.wikipedia.org/w/index.php?title=Main_Page&amp;oldid=1212457119\" 48 languages العربيةবাংলাБългарскиBosanskiCatalàČeštinaDanskDeutschEestiΕλληνικάEspañolEsperantoEuskaraفارسیFrançaisGalego한국어HrvatskiBahasa IndonesiaItalianoעבריתქართულიLatviešuLietuviųMagyarМакедонскиBahasa MelayuNederlands日本語Norsk bokmålNorsk nynorskPolskiPortuguêsRomânăРусскийSimple EnglishSlovenčinaSlovenščinaکوردیСрпски / srpskiSrpskohrvatski / српскохрватскиSuomiSvenskaไทยTürkçeУкраїнськаTiếng Việt中文 This page was last edited on 7 March 2024, at 23:59&#160;(UTC). Text is available under the Creative Commons Attribution-ShareAlike License 4.0; additional terms may apply. By using this site, you agree to the Terms of Use and Privacy Policy. Wikipedia® is a registered trademark of the Wikimedia Foundation, Inc., a non-profit organization. Privacy policy About Wikipedia Disclaimers Contact Wikipedia Code of Conduct Developers Statistics Cookie statement Mobile view Toggle limited content width\n"
          ]
        }
      ]
    },
    {
      "cell_type": "code",
      "source": [
        "import nltk\n",
        "nltk.download('punkt')\n",
        "nltk.download('wordnet')\n",
        "nltk.download('stopwords')"
      ],
      "metadata": {
        "colab": {
          "base_uri": "https://localhost:8080/"
        },
        "id": "WbY4L3685OT_",
        "outputId": "cf74b0ac-5f2c-4a30-c49d-f52f5f3246c5"
      },
      "execution_count": null,
      "outputs": [
        {
          "output_type": "stream",
          "name": "stderr",
          "text": [
            "[nltk_data] Downloading package punkt to /root/nltk_data...\n",
            "[nltk_data]   Package punkt is already up-to-date!\n",
            "[nltk_data] Downloading package wordnet to /root/nltk_data...\n",
            "[nltk_data]   Package wordnet is already up-to-date!\n",
            "[nltk_data] Downloading package stopwords to /root/nltk_data...\n",
            "[nltk_data]   Package stopwords is already up-to-date!\n"
          ]
        },
        {
          "output_type": "execute_result",
          "data": {
            "text/plain": [
              "True"
            ]
          },
          "metadata": {},
          "execution_count": 82
        }
      ]
    },
    {
      "cell_type": "code",
      "source": [
        "import re\n",
        "import nltk\n",
        "from nltk.corpus import stopwords\n",
        "from nltk.tokenize import word_tokenize\n",
        "from nltk.stem import WordNetLemmatizer\n",
        "\n",
        "def preprocess_text(text):\n",
        "    cleaned_text = re.sub(r'[^a-zA-Z\\s]', '', text)\n",
        "\n",
        "    cleaned_text = cleaned_text.lower()\n",
        "\n",
        "    words = word_tokenize(cleaned_text)\n",
        "\n",
        "    lemmatizer = WordNetLemmatizer()\n",
        "\n",
        "    lemmatized_words = [lemmatizer.lemmatize(word) for word in words]\n",
        "\n",
        "    stop_words = set(stopwords.words('english'))\n",
        "    filtered_words = [word for word in lemmatized_words if word not in stop_words]\n",
        "\n",
        "    unique_words = set(filtered_words)\n",
        "\n",
        "    return unique_words,filtered_words\n",
        "\n",
        "\n",
        "\n",
        "unique_words , clean_text = preprocess_text(text)\n",
        "print(\"Unique words after preprocessing:\", unique_words)\n"
      ],
      "metadata": {
        "id": "wmW1BRIVC5VI",
        "colab": {
          "base_uri": "https://localhost:8080/"
        },
        "outputId": "725b6a1a-31d7-4b52-8744-693b10f4642e"
      },
      "execution_count": null,
      "outputs": [
        {
          "output_type": "stream",
          "name": "stdout",
          "text": [
            "Unique words after preprocessing: {'american', 'printexport', 'following', 'premiered', 'large', 'bed', 'ceiling', 'leane', 'shortened', 'nominate', 'geodetic', 'tj', 'may', 'quit', 'including', 'franais', 'robe', 'credit', 'bestknown', 'hererelated', 'know', 'inflation', 'quotation', 'explosion', 'boyy', 'dansk', 'officer', 'march', 'disintegrated', 'medium', 'reviving', 'test', 'red', 'km', 'editcommunity', 'dublin', 'football', 'whose', 'vessel', 'porijs', 'action', 'several', 'vladimir', 'orbit', 'gradually', 'royal', 'also', 'threatening', 'approximately', 'ukraine', 'descending', 'indian', 'millington', 'pagetalk', 'encyclopedia', 'article', 'soldier', 'registered', 'work', 'confederate', 'show', 'bosanski', 'vit', 'tiktok', 'display', 'parson', 'outlined', 'changesupload', 'volunteer', 'galego', 'launched', 'slack', 'least', 'theatre', 'cemetery', 'pageos', 'mass', 'house', 'language', 'major', 'city', 'svenska', 'pilot', 'purim', 'informationcite', 'ask', 'look', 'nynorsk', 'traditional', 'decade', 'york', 'sister', 'edited', 'written', 'election', 'reentered', 'indonesia', 'shqip', 'carolina', 'inclination', 'today', 'yashmak', 'alexander', 'character', 'jersey', 'trke', 'lietuvi', 'sidebar', 'helplearn', 'well', 'dairy', 'baltimore', 'battle', 'period', 'nine', 'jump', 'foundation', 'portalrecent', 'attributionsharealike', 'ghouri', 'bosh', 'series', 'formed', 'hangar', 'free', 'tradition', 'account', 'shooting', 'lower', 'jumalan', 'fitzalan', 'east', 'qr', 'january', 'award', 'privacy', 'area', 'hurricane', 'myanmar', 'credited', 'pump', 'portugus', 'response', 'technical', 'comet', 'task', 'williams', 'son', 'player', 'edward', 'width', 'crocus', 'last', 'move', 'srpskisrpskohrvatski', 'alliance', 'creature', 'welcome', 'cross', 'httpsenwikipediaorgwindexphptitlemainpageampoldid', 'kroeber', 'license', 'disclaimer', 'krasnogorsk', 'sea', 'graf', 'followed', 'winner', 'teahouse', 'search', 'government', 'hub', 'developer', 'went', 'oriole', 'overthrow', 'bahasa', 'fleet', 'professional', 'teatteri', 'judaism', 'day', 'anniversary', 'retrieved', 'simple', 'trademark', 'common', 'mcqueen', 'team', 'compared', 'occurred', 'number', 'one', 'recent', 'pagespermanent', 'frysk', 'job', 'deutsch', 'cola', 'timeline', 'commonsfree', 'qureshi', 'base', 'statistic', 'contestant', 'archive', 'asturianu', 'srpskohrvatski', 'apply', 'pukht', 'wikiversityfree', 'text', 'tasha', 'deaf', 'bokml', 'chainmail', 'release', 'editing', 'business', 'list', 'magazine', 'according', 'new', 'early', 'dyed', 'final', 'halley', 'pdfprintable', 'wikipedia', 'ozbekcha', 'act', 'photograph', 'creative', 'limited', 'ongoing', 'link', 'given', 'menu', 'organization', 'nail', 'mixed', 'clothing', 'recently', 'wire', 'portugal', 'repository', 'designer', 'tinder', 'earth', 'blackinger', 'trouser', 'september', 'made', 'balloon', 'wulfred', 'resource', 'italiano', 'montana', 'securing', 'p', 'liechtenstein', 'attempted', 'fashion', 'blimp', 'viral', 'konstantin', 'state', 'question', 'usdonate', 'pageget', 'huge', 'flag', 'agree', 'win', 'placed', 'came', 'uploading', 'hank', 'wikivoyagefree', 'wikisourcewikispecieswikibookswikidatawikifunctionswikimaniawikinewswikiquotewikisourcewikiversitywikivoyagewiktionary', 'steve', 'anyone', 'largest', 'editor', 'tuberculosis', 'norsk', 'richard', 'wikisourcefreecontent', 'kill', 'rose', 'british', 'walked', 'chef', 'presidential', 'thomas', 'german', 'wikipedias', 'way', 'manual', 'russian', 'satellite', 'north', 'koltsov', 'argosy', 'readview', 'bow', 'orbiting', 'specie', 'reference', 'file', 'culture', 'snap', 'main', 'download', 'atmosphere', 'navigation', 'guest', 'latvieu', 'fragment', 'haitian', 'starring', 'presented', 'dropped', 'partly', 'log', 'polski', 'contributionstalk', 'imtiaz', 'host', 'attended', 'scandal', 'people', 'code', 'learn', 'resistance', 'inadvertent', 'love', 'democratic', 'espaol', 'conduct', 'library', 'cookie', 'league', 'hundred', 'nederland', 'russia', 'national', 'passive', 'codewikidata', 'staged', 'short', 'acrobat', 'item', 'guide', 'metawikiwikimedia', 'resemble', 'miley', 'selfgovernment', 'history', 'philippine', 'catal', 'alter', 'laocon', 'provided', 'throwing', 'caused', 'inch', 'basic', 'boxer', 'tool', 'filipino', 'activity', 'black', 'outreachmultilingual', 'margate', 'pagecontentscurrent', 'oflahertys', 'dtheodora', 'french', 'dressed', 'finale', 'software', 'movement', 'living', 'island', 'contains', 'germany', 'term', 'resulting', 'particularly', 'garment', 'jeweller', 'shaun', 'coordination', 'bookshop', 'become', 'purchase', 'year', 'create', 'titular', 'learning', 'encyclopedic', 'john', 'effect', 'independence', 'islamic', 'email', 'b', 'dchris', 'slovenina', 'water', 'death', 'breakup', 'led', 'logged', 'thesaurus', 'cooking', 'filespecial', 'seat', 'annexation', 'travel', 'war', 'village', 'general', 'nynorskpolskiportugusromnsimple', 'hall', 'commonswikimedia', 'announcement', 'oppenheimer', 'ten', 'wikipediacontact', 'warii', 'wikibooksfree', 'cyrus', 'hannah', 'nazi', 'william', 'melayunederlandsnorsk', 'englishsloveninaslovenina', 'content', 'forum', 'collection', 'euskara', 'desk', 'wa', 'oil', 'version', 'wikidatafree', 'western', 'english', 'articleabout', 'contribute', 'flemish', 'nasa', 'suspended', 'featured', 'best', 'twominute', 'seven', 'site', 'ego', 'united', 'range', 'bjohn', 'navigate', 'pinniped', 'legislative', 'hrvatski', 'announced', 'picture', 'esperanto', 'listed', 'design', 'stafford', 'mediawikiwiki', 'news', 'unique', 'height', 'flooded', 'statement', 'urldownload', 'assent', 'broader', 'knowledge', 'suomi', 'eye', 'putin', 'pier', 'policy', 'brolylegs', 'audience', 'contact', 'became', 'yoghurt', 'video', 'would', 'egg', 'wikinewsfreecontent', 'eventsrandom', 'dum', 'using', 'attacked', 'community', 'israelhamas', 'available', 'linkpage', 'band', 'nonprofit', 'additional', 'polar', 'central', 'biryani', 'member', 'canadian', 'synge', 'portal', 'actress', 'discussion', 'july', 'second', 'gaeilge', 'pulaos', 'frere', 'hirsuta', 'bnlmg', 'issue', 'wikispeciesdirectory', 'tensi', 'page', 'edit', 'like', 'arabis', 'oakwood', 'guitarist', 'knockoff', 'development', 'baseball', 'wiktionarydictionary', 'etina', 'foundationmediawikimetawikiwikimedia', 'styled', 'element', 'drawn', 'maxx', 'world', 'operation', 'fiction', 'performance', 'accent', 'civil', 'start', 'source', 'kurd', 'textbook', 'matching', 'critical', 'piri', 'topic', 'provincial', 'magyar', 'bokmlnorsk', 'eesti', 'view', 'research', 'wikiquotecollection', 'mobile', 'oppression', 'academy', 'hosted', 'melayu', 'prince', 'help', 'srpski', 'ting', 'fullarticle', 'oulu', 'inspired', 'invasion', 'sourceview', 'suomisvenskatrketing', 'project', 'many', 'laxminarayan', 'woman', 'fifth', 'wikimedia', 'personal', 'manager', 'provoke', 'tydingsmcduffie', 'inc', 'toggle', 'ramdas', 'baggotonia', 'crisis', 'floyd', 'group', 'romn', 'weeksville', 'bosanskicataletinadanskdeutscheestiespaolesperantoeuskarafranaisgalegohrvatskibahasa', 'use', 'pictured', 'excrement', 'middle', 'runway', 'castilian', 'indonesiaitalianolatvieulietuvimagyarbahasa', 'hide', 'utc'}\n"
          ]
        }
      ]
    },
    {
      "cell_type": "code",
      "source": [
        "wordsMoreThan3 = [text for text in unique_words if len(text) > 3]\n",
        "\n",
        "print(wordsMoreThan3)"
      ],
      "metadata": {
        "colab": {
          "base_uri": "https://localhost:8080/"
        },
        "id": "i4QFBEja0LYs",
        "outputId": "9379cf18-aed2-49f0-fcfe-7450afb35812"
      },
      "execution_count": null,
      "outputs": [
        {
          "output_type": "stream",
          "name": "stdout",
          "text": [
            "['american', 'printexport', 'following', 'premiered', 'large', 'ceiling', 'leane', 'shortened', 'nominate', 'geodetic', 'quit', 'including', 'franais', 'robe', 'credit', 'bestknown', 'hererelated', 'know', 'inflation', 'quotation', 'explosion', 'boyy', 'dansk', 'officer', 'march', 'disintegrated', 'medium', 'reviving', 'test', 'editcommunity', 'dublin', 'football', 'whose', 'vessel', 'porijs', 'action', 'several', 'vladimir', 'orbit', 'gradually', 'royal', 'also', 'threatening', 'approximately', 'ukraine', 'descending', 'indian', 'millington', 'pagetalk', 'encyclopedia', 'article', 'soldier', 'registered', 'work', 'confederate', 'show', 'bosanski', 'tiktok', 'display', 'parson', 'outlined', 'changesupload', 'volunteer', 'galego', 'launched', 'slack', 'least', 'theatre', 'cemetery', 'pageos', 'mass', 'house', 'language', 'major', 'city', 'svenska', 'pilot', 'purim', 'informationcite', 'look', 'nynorsk', 'traditional', 'decade', 'york', 'sister', 'edited', 'written', 'election', 'reentered', 'indonesia', 'shqip', 'carolina', 'inclination', 'today', 'yashmak', 'alexander', 'character', 'jersey', 'trke', 'lietuvi', 'sidebar', 'helplearn', 'well', 'dairy', 'baltimore', 'battle', 'period', 'nine', 'jump', 'foundation', 'portalrecent', 'attributionsharealike', 'ghouri', 'bosh', 'series', 'formed', 'hangar', 'free', 'tradition', 'account', 'shooting', 'lower', 'jumalan', 'fitzalan', 'east', 'january', 'award', 'privacy', 'area', 'hurricane', 'myanmar', 'credited', 'pump', 'portugus', 'response', 'technical', 'comet', 'task', 'williams', 'player', 'edward', 'width', 'crocus', 'last', 'move', 'srpskisrpskohrvatski', 'alliance', 'creature', 'welcome', 'cross', 'httpsenwikipediaorgwindexphptitlemainpageampoldid', 'kroeber', 'license', 'disclaimer', 'krasnogorsk', 'graf', 'followed', 'winner', 'teahouse', 'search', 'government', 'developer', 'went', 'oriole', 'overthrow', 'bahasa', 'fleet', 'professional', 'teatteri', 'judaism', 'anniversary', 'retrieved', 'simple', 'trademark', 'common', 'mcqueen', 'team', 'compared', 'occurred', 'number', 'recent', 'pagespermanent', 'frysk', 'deutsch', 'cola', 'timeline', 'commonsfree', 'qureshi', 'base', 'statistic', 'contestant', 'archive', 'asturianu', 'srpskohrvatski', 'apply', 'pukht', 'wikiversityfree', 'text', 'tasha', 'deaf', 'bokml', 'chainmail', 'release', 'editing', 'business', 'list', 'magazine', 'according', 'early', 'dyed', 'final', 'halley', 'pdfprintable', 'wikipedia', 'ozbekcha', 'photograph', 'creative', 'limited', 'ongoing', 'link', 'given', 'menu', 'organization', 'nail', 'mixed', 'clothing', 'recently', 'wire', 'portugal', 'repository', 'designer', 'tinder', 'earth', 'blackinger', 'trouser', 'september', 'made', 'balloon', 'wulfred', 'resource', 'italiano', 'montana', 'securing', 'liechtenstein', 'attempted', 'fashion', 'blimp', 'viral', 'konstantin', 'state', 'question', 'usdonate', 'pageget', 'huge', 'flag', 'agree', 'placed', 'came', 'uploading', 'hank', 'wikivoyagefree', 'wikisourcewikispecieswikibookswikidatawikifunctionswikimaniawikinewswikiquotewikisourcewikiversitywikivoyagewiktionary', 'steve', 'anyone', 'largest', 'editor', 'tuberculosis', 'norsk', 'richard', 'wikisourcefreecontent', 'kill', 'rose', 'british', 'walked', 'chef', 'presidential', 'thomas', 'german', 'wikipedias', 'manual', 'russian', 'satellite', 'north', 'koltsov', 'argosy', 'readview', 'orbiting', 'specie', 'reference', 'file', 'culture', 'snap', 'main', 'download', 'atmosphere', 'navigation', 'guest', 'latvieu', 'fragment', 'haitian', 'starring', 'presented', 'dropped', 'partly', 'polski', 'contributionstalk', 'imtiaz', 'host', 'attended', 'scandal', 'people', 'code', 'learn', 'resistance', 'inadvertent', 'love', 'democratic', 'espaol', 'conduct', 'library', 'cookie', 'league', 'hundred', 'nederland', 'russia', 'national', 'passive', 'codewikidata', 'staged', 'short', 'acrobat', 'item', 'guide', 'metawikiwikimedia', 'resemble', 'miley', 'selfgovernment', 'history', 'philippine', 'catal', 'alter', 'laocon', 'provided', 'throwing', 'caused', 'inch', 'basic', 'boxer', 'tool', 'filipino', 'activity', 'black', 'outreachmultilingual', 'margate', 'pagecontentscurrent', 'oflahertys', 'dtheodora', 'french', 'dressed', 'finale', 'software', 'movement', 'living', 'island', 'contains', 'germany', 'term', 'resulting', 'particularly', 'garment', 'jeweller', 'shaun', 'coordination', 'bookshop', 'become', 'purchase', 'year', 'create', 'titular', 'learning', 'encyclopedic', 'john', 'effect', 'independence', 'islamic', 'email', 'dchris', 'slovenina', 'water', 'death', 'breakup', 'logged', 'thesaurus', 'cooking', 'filespecial', 'seat', 'annexation', 'travel', 'village', 'general', 'nynorskpolskiportugusromnsimple', 'hall', 'commonswikimedia', 'announcement', 'oppenheimer', 'wikipediacontact', 'warii', 'wikibooksfree', 'cyrus', 'hannah', 'nazi', 'william', 'melayunederlandsnorsk', 'englishsloveninaslovenina', 'content', 'forum', 'collection', 'euskara', 'desk', 'version', 'wikidatafree', 'western', 'english', 'articleabout', 'contribute', 'flemish', 'nasa', 'suspended', 'featured', 'best', 'twominute', 'seven', 'site', 'united', 'range', 'bjohn', 'navigate', 'pinniped', 'legislative', 'hrvatski', 'announced', 'picture', 'esperanto', 'listed', 'design', 'stafford', 'mediawikiwiki', 'news', 'unique', 'height', 'flooded', 'statement', 'urldownload', 'assent', 'broader', 'knowledge', 'suomi', 'putin', 'pier', 'policy', 'brolylegs', 'audience', 'contact', 'became', 'yoghurt', 'video', 'would', 'wikinewsfreecontent', 'eventsrandom', 'using', 'attacked', 'community', 'israelhamas', 'available', 'linkpage', 'band', 'nonprofit', 'additional', 'polar', 'central', 'biryani', 'member', 'canadian', 'synge', 'portal', 'actress', 'discussion', 'july', 'second', 'gaeilge', 'pulaos', 'frere', 'hirsuta', 'bnlmg', 'issue', 'wikispeciesdirectory', 'tensi', 'page', 'edit', 'like', 'arabis', 'oakwood', 'guitarist', 'knockoff', 'development', 'baseball', 'wiktionarydictionary', 'etina', 'foundationmediawikimetawikiwikimedia', 'styled', 'element', 'drawn', 'maxx', 'world', 'operation', 'fiction', 'performance', 'accent', 'civil', 'start', 'source', 'kurd', 'textbook', 'matching', 'critical', 'piri', 'topic', 'provincial', 'magyar', 'bokmlnorsk', 'eesti', 'view', 'research', 'wikiquotecollection', 'mobile', 'oppression', 'academy', 'hosted', 'melayu', 'prince', 'help', 'srpski', 'ting', 'fullarticle', 'oulu', 'inspired', 'invasion', 'sourceview', 'suomisvenskatrketing', 'project', 'many', 'laxminarayan', 'woman', 'fifth', 'wikimedia', 'personal', 'manager', 'provoke', 'tydingsmcduffie', 'toggle', 'ramdas', 'baggotonia', 'crisis', 'floyd', 'group', 'romn', 'weeksville', 'bosanskicataletinadanskdeutscheestiespaolesperantoeuskarafranaisgalegohrvatskibahasa', 'pictured', 'excrement', 'middle', 'runway', 'castilian', 'indonesiaitalianolatvieulietuvimagyarbahasa', 'hide']\n"
          ]
        }
      ]
    },
    {
      "cell_type": "code",
      "source": [
        "print(clean_text)"
      ],
      "metadata": {
        "colab": {
          "base_uri": "https://localhost:8080/"
        },
        "id": "nYstpqXI5F7A",
        "outputId": "04291266-4282-4b0b-9232-d459c9d0522b"
      },
      "execution_count": null,
      "outputs": [
        {
          "output_type": "stream",
          "name": "stdout",
          "text": [
            "['wikipedia', 'free', 'encyclopedia', 'jump', 'content', 'main', 'menu', 'main', 'menu', 'move', 'sidebar', 'hide', 'navigation', 'main', 'pagecontentscurrent', 'eventsrandom', 'articleabout', 'wikipediacontact', 'usdonate', 'contribute', 'helplearn', 'editcommunity', 'portalrecent', 'changesupload', 'file', 'search', 'search', 'create', 'account', 'log', 'personal', 'tool', 'create', 'account', 'log', 'page', 'logged', 'editor', 'learn', 'contributionstalk', 'main', 'page', 'main', 'pagetalk', 'english', 'readview', 'sourceview', 'history', 'tool', 'tool', 'move', 'sidebar', 'hide', 'action', 'readview', 'sourceview', 'history', 'general', 'link', 'hererelated', 'changesupload', 'filespecial', 'pagespermanent', 'linkpage', 'informationcite', 'pageget', 'shortened', 'urldownload', 'qr', 'codewikidata', 'item', 'printexport', 'download', 'pdfprintable', 'version', 'project', 'wikimedia', 'commonswikimedia', 'foundationmediawikimetawikiwikimedia', 'outreachmultilingual', 'wikisourcewikispecieswikibookswikidatawikifunctionswikimaniawikinewswikiquotewikisourcewikiversitywikivoyagewiktionary', 'wikipedia', 'free', 'encyclopedia', 'welcome', 'wikipedia', 'free', 'encyclopedia', 'anyone', 'edit', 'article', 'english', 'today', 'featured', 'article', 'eye', 'collection', 'british', 'fashion', 'designer', 'alexander', 'mcqueen', 'fashion', 'house', 'inspired', 'culture', 'middle', 'east', 'particularly', 'islamic', 'clothing', 'well', 'oppression', 'woman', 'islamic', 'culture', 'resistance', 'collection', 'cross', 'traditional', 'garment', 'element', 'drawn', 'western', 'fashion', 'jeweller', 'shaun', 'leane', 'provided', 'collection', 'bestknown', 'design', 'yashmak', 'made', 'chainmail', 'runway', 'show', 'eye', 'wa', 'staged', 'pier', 'new', 'york', 'city', 'september', 'hurricane', 'floyd', 'wa', 'threatening', 'city', 'guest', 'attended', 'show', 'wa', 'presented', 'runway', 'flooded', 'several', 'inch', 'water', 'dyed', 'black', 'resemble', 'oil', 'bed', 'nail', 'rose', 'water', 'finale', 'featured', 'acrobat', 'dressed', 'robe', 'descending', 'ceiling', 'suspended', 'wire', 'mcqueen', 'walked', 'final', 'bow', 'dropped', 'trouser', 'display', 'boxer', 'short', 'styled', 'look', 'like', 'american', 'flag', 'critical', 'response', 'eye', 'wa', 'mixed', 'fullarticle', 'recently', 'featured', 'argosy', 'magazine', 'pinniped', 'william', 'slack', 'archive', 'email', 'featured', 'article', 'know', 'halley', 'comet', 'halley', 'comet', 'pictured', 'living', 'creature', 'several', 'work', 'fiction', 'according', 'indian', 'chef', 'imtiaz', 'qureshi', 'credited', 'reviving', 'cooking', 'tradition', 'dum', 'pukht', 'biryani', 'pulaos', 'oakwood', 'cemetery', 'contains', 'graf', 'confederate', 'soldier', 'officer', 'english', 'canadian', 'french', 'world', 'warii', 'pilot', 'hank', 'williams', 'may', 'oflahertys', 'purchase', 'parson', 'bookshop', 'would', 'become', 'hub', 'activity', 'dublin', 'baggotonia', 'wa', 'inadvertent', 'piri', 'formed', 'band', 'porijs', 'guitarist', 'matching', 'tinder', 'love', 'island', 'series', 'contestant', 'tasha', 'ghouri', 'went', 'viral', 'early', 'uploading', 'video', 'tiktok', 'using', 'deaf', 'accent', 'one', 'baltimore', 'oriole', 'player', 'compared', 'major', 'league', 'baseball', 'jersey', 'knockoff', 'tj', 'maxx', 'john', 'blackinger', 'quit', 'job', 'general', 'manager', 'professional', 'football', 'team', 'work', 'dairy', 'business', 'twominute', 'performance', 'oulu', 'city', 'theatre', 'group', 'jumalan', 'teatteri', 'caused', 'huge', 'scandal', 'throwing', 'excrement', 'egg', 'yoghurt', 'audience', 'archive', 'start', 'new', 'article', 'nominate', 'article', 'news', 'crocus', 'city', 'hall', 'mass', 'shooting', 'explosion', 'kill', 'least', 'people', 'crocus', 'city', 'hall', 'pictured', 'krasnogorsk', 'russia', 'vladimir', 'putin', 'announced', 'winner', 'russian', 'presidential', 'election', 'securing', 'fifth', 'term', 'portugal', 'democratic', 'alliance', 'win', 'seat', 'snap', 'legislative', 'election', 'academy', 'award', 'oppenheimer', 'win', 'seven', 'award', 'including', 'best', 'picture', 'ongoing', 'haitian', 'crisis', 'israelhamas', 'war', 'myanmar', 'civil', 'war', 'red', 'sea', 'crisis', 'russian', 'invasion', 'ukraine', 'timeline', 'recent', 'death', 'cola', 'boyy', 'steve', 'tensi', 'laxminarayan', 'ramdas', 'brolylegs', 'konstantin', 'koltsov', 'thomas', 'p', 'stafford', 'nominate', 'article', 'day', 'march', 'purim', 'judaism', 'world', 'tuberculosis', 'day', 'flag', 'prince', 'edward', 'island', 'hundred', 'year', 'war', 'english', 'fleet', 'led', 'richard', 'fitzalan', 'attacked', 'french', 'flemish', 'castilian', 'vessel', 'battle', 'margate', 'tydingsmcduffie', 'act', 'came', 'effect', 'provided', 'selfgovernment', 'philippine', 'filipino', 'independence', 'united', 'state', 'period', 'ten', 'year', 'member', 'german', 'national', 'movement', 'liechtenstein', 'attempted', 'overthrow', 'government', 'provoke', 'liechtenstein', 'annexation', 'nazi', 'germany', 'royal', 'assent', 'wa', 'given', 'prince', 'edward', 'island', 'provincial', 'flag', 'act', 'outlined', 'design', 'provincial', 'flag', 'pictured', 'hannah', 'montana', 'starring', 'miley', 'cyrus', 'actress', 'whose', 'alter', 'ego', 'titular', 'character', 'premiered', 'wulfred', 'dtheodora', 'kroeber', 'bjohn', 'millington', 'synge', 'dchris', 'bosh', 'b', 'anniversary', 'march', 'march', 'march', 'archive', 'email', 'list', 'day', 'year', 'today', 'featured', 'picture', 'pageos', 'passive', 'geodetic', 'earth', 'orbiting', 'satellite', 'wa', 'balloon', 'satellite', 'wa', 'launched', 'nasa', 'wa', 'placed', 'polar', 'orbit', 'inclination', 'height', 'approximately', 'km', 'became', 'gradually', 'lower', 'nine', 'year', 'operation', 'satellite', 'partly', 'disintegrated', 'july', 'wa', 'followed', 'second', 'breakup', 'occurred', 'january', 'resulting', 'release', 'large', 'number', 'fragment', 'reentered', 'earth', 'atmosphere', 'following', 'decade', 'photograph', 'show', 'test', 'inflation', 'pageos', 'satellite', 'blimp', 'hangar', 'weeksville', 'north', 'carolina', 'photograph', 'credit', 'nasa', 'recently', 'featured', 'frere', 'hall', 'laocon', 'son', 'arabis', 'hirsuta', 'archive', 'featured', 'picture', 'area', 'wikipedia', 'community', 'portal', 'central', 'hub', 'editor', 'resource', 'link', 'task', 'announcement', 'village', 'pump', 'forum', 'discussion', 'wikipedia', 'including', 'policy', 'technical', 'issue', 'site', 'news', 'source', 'news', 'wikipedia', 'broader', 'wikimedia', 'movement', 'teahouse', 'ask', 'basic', 'question', 'using', 'editing', 'wikipedia', 'help', 'desk', 'ask', 'question', 'using', 'editing', 'wikipedia', 'reference', 'desk', 'ask', 'research', 'question', 'encyclopedic', 'topic', 'content', 'portal', 'unique', 'way', 'navigate', 'encyclopedia', 'wikipedias', 'sister', 'project', 'wikipedia', 'written', 'volunteer', 'editor', 'hosted', 'wikimedia', 'foundation', 'nonprofit', 'organization', 'also', 'host', 'range', 'volunteer', 'project', 'commonsfree', 'medium', 'repository', 'mediawikiwiki', 'software', 'development', 'metawikiwikimedia', 'project', 'coordination', 'wikibooksfree', 'textbook', 'manual', 'wikidatafree', 'knowledge', 'base', 'wikinewsfreecontent', 'news', 'wikiquotecollection', 'quotation', 'wikisourcefreecontent', 'library', 'wikispeciesdirectory', 'specie', 'wikiversityfree', 'learning', 'tool', 'wikivoyagefree', 'travel', 'guide', 'wiktionarydictionary', 'thesaurus', 'wikipedia', 'language', 'wikipedia', 'written', 'english', 'many', 'wikipedias', 'available', 'largest', 'listed', 'article', 'deutsch', 'espaol', 'franais', 'italiano', 'nederland', 'polski', 'portugus', 'svenska', 'ting', 'vit', 'article', 'bahasa', 'indonesia', 'bahasa', 'melayu', 'bnlmg', 'catal', 'etina', 'dansk', 'esperanto', 'euskara', 'magyar', 'norsk', 'bokml', 'romn', 'srpski', 'srpskohrvatski', 'suomi', 'trke', 'article', 'asturianu', 'bosanski', 'eesti', 'simple', 'english', 'frysk', 'gaeilge', 'galego', 'hrvatski', 'kurd', 'latvieu', 'lietuvi', 'norsk', 'nynorsk', 'shqip', 'slovenina', 'slovenina', 'ozbekcha', 'retrieved', 'httpsenwikipediaorgwindexphptitlemainpageampoldid', 'language', 'bosanskicataletinadanskdeutscheestiespaolesperantoeuskarafranaisgalegohrvatskibahasa', 'indonesiaitalianolatvieulietuvimagyarbahasa', 'melayunederlandsnorsk', 'bokmlnorsk', 'nynorskpolskiportugusromnsimple', 'englishsloveninaslovenina', 'srpskisrpskohrvatski', 'suomisvenskatrketing', 'vit', 'page', 'wa', 'last', 'edited', 'march', 'utc', 'text', 'available', 'creative', 'common', 'attributionsharealike', 'license', 'additional', 'term', 'may', 'apply', 'using', 'site', 'agree', 'term', 'use', 'privacy', 'policy', 'wikipedia', 'registered', 'trademark', 'wikimedia', 'foundation', 'inc', 'nonprofit', 'organization', 'privacy', 'policy', 'wikipedia', 'disclaimer', 'contact', 'wikipedia', 'code', 'conduct', 'developer', 'statistic', 'cookie', 'statement', 'mobile', 'view', 'toggle', 'limited', 'content', 'width']\n"
          ]
        }
      ]
    },
    {
      "cell_type": "markdown",
      "source": [
        "###TFIDF"
      ],
      "metadata": {
        "id": "G2TB19PQ8jXs"
      }
    },
    {
      "cell_type": "markdown",
      "source": [
        "##using built-in"
      ],
      "metadata": {
        "id": "Q7G4015B9CPj"
      }
    },
    {
      "cell_type": "code",
      "source": [
        "import numpy as np\n",
        "import re\n",
        "from sklearn.feature_extraction.text import TfidfVectorizer\n",
        "from nltk.corpus import stopwords\n",
        "from nltk.tokenize import word_tokenize\n",
        "from nltk.stem import WordNetLemmatizer\n",
        "from transformers import pipeline\n",
        "\n",
        "# Initialize text generation pipeline\n",
        "generator = pipeline('text2text-generation', model='gpt2')\n",
        "\n",
        "# Generate text based on prompt\n",
        "prompt = \"machine learning\"\n",
        "documents = generator(prompt, max_length=50)\n",
        "text_documents = [doc['generated_text'] for doc in documents]\n",
        "\n",
        "\n",
        "def preprocess_text(text):\n",
        "    cleaned_text = re.sub(r'[^a-zA-Z\\s]', '', text)\n",
        "    cleaned_text = cleaned_text.lower()\n",
        "    words = word_tokenize(cleaned_text)\n",
        "    lemmatizer = WordNetLemmatizer()\n",
        "    lemmatized_words = [lemmatizer.lemmatize(word) for word in words]\n",
        "    stop_words = set(stopwords.words('english'))\n",
        "    filtered_words = [word for word in lemmatized_words if word not in stop_words]\n",
        "    return \" \".join(filtered_words)\n",
        "\n",
        "# Preprocess the generated text\n",
        "preprocessed_text = [preprocess_text(text) for text in text_documents]\n",
        "\n",
        "# Calculate TF-IDF\n",
        "# Initialize TfidfVectorizer\n",
        "tfidf_vectorizer = TfidfVectorizer()\n",
        "\n",
        "# Fit-transform the preprocessed text to get TF-IDF features\n",
        "tfidf_features = tfidf_vectorizer.fit_transform(preprocessed_text)\n",
        "\n",
        "# Convert TF-IDF features to a normalized array\n",
        "normalized_tfidf = tfidf_features.toarray()\n",
        "\n",
        "# Print results\n",
        "for doc_id, doc_values in enumerate(normalized_tfidf):\n",
        "    print(f\"Document {doc_id + 1}:\")\n",
        "    print(doc_values)\n",
        "    print()\n",
        "#[0.32879797461071464\n",
        "#0.32879797461071464\n",
        "#0.32879797461071464\n",
        "#0.16439898730535732\n",
        "#0.16439898730535732\n",
        "#0.16439898730535732\n",
        "#0.16439898730535732\n",
        "#0.16439898730535732\n",
        "#0.32879797461071464\n",
        "#0.16439898730535732\n",
        "#0.49319696191607193\n",
        "#0.16439898730535732\n",
        "#0.32879797461071464\n",
        "#0.16439898730535732]"
      ],
      "metadata": {
        "colab": {
          "base_uri": "https://localhost:8080/"
        },
        "id": "QPvK7h6KlPN_",
        "outputId": "ba6aa3fd-7690-436f-d288-38191aa4a496"
      },
      "execution_count": null,
      "outputs": [
        {
          "output_type": "stream",
          "name": "stderr",
          "text": [
            "The model 'GPT2LMHeadModel' is not supported for text2text-generation. Supported models are ['BartForConditionalGeneration', 'BigBirdPegasusForConditionalGeneration', 'BlenderbotForConditionalGeneration', 'BlenderbotSmallForConditionalGeneration', 'EncoderDecoderModel', 'FSMTForConditionalGeneration', 'GPTSanJapaneseForConditionalGeneration', 'LEDForConditionalGeneration', 'LongT5ForConditionalGeneration', 'M2M100ForConditionalGeneration', 'MarianMTModel', 'MBartForConditionalGeneration', 'MT5ForConditionalGeneration', 'MvpForConditionalGeneration', 'NllbMoeForConditionalGeneration', 'PegasusForConditionalGeneration', 'PegasusXForConditionalGeneration', 'PLBartForConditionalGeneration', 'ProphetNetForConditionalGeneration', 'SeamlessM4TForTextToText', 'SeamlessM4Tv2ForTextToText', 'SwitchTransformersForConditionalGeneration', 'T5ForConditionalGeneration', 'UMT5ForConditionalGeneration', 'XLMProphetNetForConditionalGeneration'].\n",
            "Setting `pad_token_id` to `eos_token_id`:50256 for open-end generation.\n"
          ]
        },
        {
          "output_type": "stream",
          "name": "stdout",
          "text": [
            "Document 1:\n",
            "[0.32879797 0.32879797 0.32879797 0.16439899 0.16439899 0.16439899\n",
            " 0.16439899 0.16439899 0.32879797 0.16439899 0.49319696 0.16439899\n",
            " 0.32879797 0.16439899]\n",
            "\n"
          ]
        }
      ]
    },
    {
      "cell_type": "markdown",
      "source": [
        "##from scratch"
      ],
      "metadata": {
        "id": "Oq8wWOt88-q7"
      }
    },
    {
      "cell_type": "markdown",
      "source": [
        "![1_1pTLnoOPJKKcKIcRi3q0WA.jpg](data:image/jpeg;base64,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)"
      ],
      "metadata": {
        "id": "4xqFOearfnEP"
      }
    },
    {
      "cell_type": "code",
      "source": [
        "import numpy as np\n",
        "\n",
        "def calculate_tf(documents):\n",
        "    tf = {}\n",
        "    total_docs = len(documents)\n",
        "\n",
        "    for doc_id, doc in enumerate(documents):\n",
        "        doc_tf = {}\n",
        "        total_words = len(doc.split())\n",
        "\n",
        "        for word in doc.split():\n",
        "            doc_tf[word] = doc_tf.get(word, 0) + 1 / total_words\n",
        "\n",
        "        tf[doc_id] = doc_tf\n",
        "\n",
        "    return tf\n",
        "\n",
        "def calculate_idf(documents):\n",
        "    idf = {}\n",
        "    total_docs = len(documents)\n",
        "\n",
        "    for doc in documents:\n",
        "        words = set(doc.split())\n",
        "        for word in words:\n",
        "            idf[word] = idf.get(word, 0) + 1\n",
        "\n",
        "    for word, count in idf.items():\n",
        "        idf[word] = np.log(total_docs / (count + 1))  # Adding 1 to avoid division by zero\n",
        "\n",
        "    return idf\n",
        "\n",
        "def calculate_tfidf(tf, idf):\n",
        "    tfidf = {}\n",
        "\n",
        "    for doc_id, doc_tf in tf.items():\n",
        "        tfidf[doc_id] = {}\n",
        "        for word, tf_value in doc_tf.items():\n",
        "            tfidf[doc_id][word] = tf_value * idf[word]\n",
        "\n",
        "    return tfidf\n",
        "\n",
        "def normalize_tfidf(tfidf):\n",
        "    normalized_tfidf = {}\n",
        "\n",
        "    for doc_id, doc_values in tfidf.items():\n",
        "        norm = np.linalg.norm(list(doc_values.values()))\n",
        "        normalized_tfidf[doc_id] = {word: value / norm for word, value in doc_values.items()}\n",
        "\n",
        "    return normalized_tfidf\n",
        "\n",
        "\n",
        "# Calculate TF\n",
        "tf = calculate_tf(preprocessed_text)\n",
        "\n",
        "# Calculate IDF\n",
        "idf = calculate_idf(preprocessed_text)\n",
        "\n",
        "# Calculate TF-IDF\n",
        "tfidf = calculate_tfidf(tf, idf)\n",
        "\n",
        "# Normalize TF-IDF\n",
        "normalized_tfidf = normalize_tfidf(tfidf)\n",
        "\n",
        "\n",
        "# Get all unique words\n",
        "all_words = sorted(set(word for doc_values in tfidf.values() for word in doc_values))\n",
        "\n",
        "# Create a numpy array to store TF-IDF scores\n",
        "tfidf_array = np.zeros((len(normalized_tfidf), len(all_words)))\n",
        "\n",
        "# Fill the numpy array with TF-IDF scores\n",
        "for doc_id, doc_values in normalized_tfidf.items():\n",
        "    for word_id, word in enumerate(all_words):\n",
        "        tfidf_array[doc_id, word_id] = doc_values.get(word, 0.0)\n",
        "\n",
        "# Print the numpy array\n",
        "for i in tfidf_array:\n",
        "  for j in i:\n",
        "    print(j*-1)\n",
        "\n",
        "\n"
      ],
      "metadata": {
        "id": "Hqd18g-b8o32",
        "colab": {
          "base_uri": "https://localhost:8080/"
        },
        "outputId": "9e714195-0183-4615-df68-fc2244769357"
      },
      "execution_count": null,
      "outputs": [
        {
          "output_type": "stream",
          "name": "stdout",
          "text": [
            "0.32879797461071464\n",
            "0.32879797461071464\n",
            "0.32879797461071464\n",
            "0.16439898730535732\n",
            "0.16439898730535732\n",
            "0.16439898730535732\n",
            "0.16439898730535732\n",
            "0.16439898730535732\n",
            "0.32879797461071464\n",
            "0.16439898730535732\n",
            "0.49319696191607193\n",
            "0.16439898730535732\n",
            "0.32879797461071464\n",
            "0.16439898730535732\n"
          ]
        }
      ]
    },
    {
      "cell_type": "code",
      "source": [],
      "metadata": {
        "id": "rKnxYHkfdRFb"
      },
      "execution_count": null,
      "outputs": []
    }
  ]
}